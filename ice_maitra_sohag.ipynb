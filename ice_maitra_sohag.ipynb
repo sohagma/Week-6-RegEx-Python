{
 "cells": [
  {
   "cell_type": "code",
   "execution_count": 56,
   "source": [
    "import regex \r\n",
    "import re"
   ],
   "outputs": [],
   "metadata": {}
  },
  {
   "cell_type": "code",
   "execution_count": 10,
   "source": [
    "reg_string1 = \"\"\"<p class=\"txt\">\r\n",
    "    TOKYO -- A documentary film honing in on a 1943 incident where Japanese immigrants were forced to leave the port city Santos in Brazil's Sao Paulo -- a history that had been veiled for years -- premiered Aug. 7 in Tokyo and Osaka.  \r\n",
    "</p>\r\n",
    "<!-- cxenseparse_end -->\r\n",
    "<div><ul class=\"list-typeD typeD-line\"></ul></div>\r\n",
    "<!-- cxenseparse_start -->\r\n",
    "<p class=\"txt\">\r\n",
    "    Yoju Matsubayashi, 42, director of the film \"Okinawa/Santos\" discovered a register including the names of immigrants who were subject to the displacement, and 60% of them appeared to be from Japan's southernmost prefecture of Okinawa. The incident had been considered a taboo subject for a long time even after World War II. \r\n",
    "</p>\r\n",
    "<p class=\"txt\">\r\n",
    "    Japanese immigration to Brazil began in 1908, as immigrant ships first arrived in Santos located in southeastern Brazil. After Japan and the United States went to battle in 1941 during World War II, Brazil sided with the Allied powers, and broke off diplomatic relations with the Axis powers including Japan. Discrimination and prejudice against Japanese people became more severe thereafter. The Brazilian government ordered the abolishment of Japanese-language newspapers and the closure of Japanese schools, and enforced a ban on speaking Japanese in public spaces -- targeting the about 200,000 Japanese immigrants apparently living in the country at the time. \r\n",
    "</p>\"\"\"\r\n",
    "\r\n",
    "reg_string1 = re.sub(r'<.*?>', '', reg_string1)\r\n",
    "print(reg_string1)"
   ],
   "outputs": [
    {
     "output_type": "stream",
     "name": "stdout",
     "text": [
      "\n",
      "    TOKYO -- A documentary film honing in on a 1943 incident where Japanese immigrants were forced to leave the port city Santos in Brazil's Sao Paulo -- a history that had been veiled for years -- premiered Aug. 7 in Tokyo and Osaka.  \n",
      "\n",
      "\n",
      "\n",
      "\n",
      "\n",
      "    Yoju Matsubayashi, 42, director of the film \"Okinawa/Santos\" discovered a register including the names of immigrants who were subject to the displacement, and 60% of them appeared to be from Japan's southernmost prefecture of Okinawa. The incident had been considered a taboo subject for a long time even after World War II. \n",
      "\n",
      "\n",
      "    Japanese immigration to Brazil began in 1908, as immigrant ships first arrived in Santos located in southeastern Brazil. After Japan and the United States went to battle in 1941 during World War II, Brazil sided with the Allied powers, and broke off diplomatic relations with the Axis powers including Japan. Discrimination and prejudice against Japanese people became more severe thereafter. The Brazilian government ordered the abolishment of Japanese-language newspapers and the closure of Japanese schools, and enforced a ban on speaking Japanese in public spaces -- targeting the about 200,000 Japanese immigrants apparently living in the country at the time. \n",
      "\n"
     ]
    }
   ],
   "metadata": {}
  },
  {
   "cell_type": "code",
   "execution_count": 41,
   "source": [
    "pattern1 = r\"Japan.\"\r\n",
    "pattern2 = r\"Japan\\'s.\"\r\n",
    "pattern3 = r\"Japanese.\""
   ],
   "outputs": [],
   "metadata": {}
  },
  {
   "cell_type": "code",
   "execution_count": 40,
   "source": [
    "matches1 = regex.findall(pattern1,reg_string1)\r\n",
    "for Japan in matches1:  \r\n",
    "    print(Japan)"
   ],
   "outputs": [
    {
     "output_type": "stream",
     "name": "stdout",
     "text": [
      "Japane\n",
      "Japan'\n",
      "Japane\n",
      "Japan \n",
      "Japan.\n",
      "Japane\n",
      "Japane\n",
      "Japane\n",
      "Japane\n",
      "Japane\n"
     ]
    }
   ],
   "metadata": {}
  },
  {
   "cell_type": "code",
   "execution_count": 42,
   "source": [
    "matches2 = regex.findall(pattern2,reg_string1)\r\n",
    "for Japans in matches2:  \r\n",
    "    print(Japans)"
   ],
   "outputs": [
    {
     "output_type": "stream",
     "name": "stdout",
     "text": [
      "Japan's \n"
     ]
    }
   ],
   "metadata": {}
  },
  {
   "cell_type": "code",
   "execution_count": 44,
   "source": [
    "matches3 = regex.findall(pattern3,reg_string1)\r\n",
    "for Japanese in matches3:  \r\n",
    "    print(Japanese)"
   ],
   "outputs": [
    {
     "output_type": "stream",
     "name": "stdout",
     "text": [
      "Japanese \n",
      "Japanese \n",
      "Japanese \n",
      "Japanese-\n",
      "Japanese \n",
      "Japanese \n",
      "Japanese \n"
     ]
    }
   ],
   "metadata": {}
  },
  {
   "cell_type": "code",
   "execution_count": 45,
   "source": [
    "pattern4 = r\"Brazil.\"\r\n",
    "pattern5 = r\"Brazilian.\""
   ],
   "outputs": [],
   "metadata": {}
  },
  {
   "cell_type": "code",
   "execution_count": 46,
   "source": [
    "matches4 = regex.findall(pattern4,reg_string1)\r\n",
    "for Brazil in matches4:  \r\n",
    "    print(Brazil)"
   ],
   "outputs": [
    {
     "output_type": "stream",
     "name": "stdout",
     "text": [
      "Brazil'\n",
      "Brazil \n",
      "Brazil.\n",
      "Brazil \n",
      "Brazili\n"
     ]
    }
   ],
   "metadata": {}
  },
  {
   "cell_type": "code",
   "execution_count": 47,
   "source": [
    "matches5 = regex.findall(pattern5,reg_string1)\r\n",
    "for Brazilian in matches5:  \r\n",
    "    print(Brazilian)"
   ],
   "outputs": [
    {
     "output_type": "stream",
     "name": "stdout",
     "text": [
      "Brazilian \n"
     ]
    }
   ],
   "metadata": {}
  },
  {
   "cell_type": "code",
   "execution_count": 69,
   "source": [
    "pattern6 = r\"\\d{3}[,]\\d{3}\""
   ],
   "outputs": [],
   "metadata": {}
  },
  {
   "cell_type": "code",
   "execution_count": 73,
   "source": [
    "matches6 = regex.findall(pattern6,reg_string1)\r\n",
    "print (matches6)"
   ],
   "outputs": [
    {
     "output_type": "stream",
     "name": "stdout",
     "text": [
      "['200,000']\n"
     ]
    }
   ],
   "metadata": {}
  }
 ],
 "metadata": {
  "orig_nbformat": 4,
  "language_info": {
   "name": "python",
   "version": "3.8.5",
   "mimetype": "text/x-python",
   "codemirror_mode": {
    "name": "ipython",
    "version": 3
   },
   "pygments_lexer": "ipython3",
   "nbconvert_exporter": "python",
   "file_extension": ".py"
  },
  "kernelspec": {
   "name": "python3",
   "display_name": "Python 3.8.5 64-bit ('base': conda)"
  },
  "interpreter": {
   "hash": "6affd40a1b9d43dc64c1f8d40b0aa7f7bd65947ccd12ebd59efdf5b31318075c"
  }
 },
 "nbformat": 4,
 "nbformat_minor": 2
}